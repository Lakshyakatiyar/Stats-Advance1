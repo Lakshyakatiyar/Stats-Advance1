{
 "cells": [
  {
   "cell_type": "markdown",
   "id": "24911bb0-878e-45b8-95c4-af4c01623aaa",
   "metadata": {},
   "source": [
    "1.The Probability Density Function (PDF) is a function that describes the likelihood of a continuous random variable to take on a particular value. The PDF is used to specify the probability of the random variable falling within a particular range of values, rather than taking on any one value. The area under the PDF curve within a given range represents the probability that the variable falls within that range.\n",
    "\n",
    "For a continuous random variable \n",
    "𝑋\n",
    "X, the PDF \n",
    "𝑓\n",
    "(\n",
    "𝑥\n",
    ")\n",
    "f(x) must satisfy the following properties:\n",
    "\n",
    "𝑓\n",
    "(\n",
    "𝑥\n",
    ")\n",
    "≥\n",
    "0\n",
    "f(x)≥0 for all \n",
    "𝑥\n",
    "x\n",
    "The total area under the curve of \n",
    "𝑓\n",
    "(\n",
    "𝑥\n",
    ")\n",
    "f(x) over all possible values of \n",
    "𝑋\n",
    "X is 1, i.e., \n",
    "∫\n",
    "−\n",
    "∞\n",
    "∞\n",
    "𝑓\n",
    "(\n",
    "𝑥\n",
    ")\n",
    " \n",
    "𝑑\n",
    "𝑥\n",
    "=\n",
    "1\n",
    "∫ \n",
    "−∞\n",
    "∞\n",
    "​\n",
    " f(x)dx=1"
   ]
  },
  {
   "cell_type": "markdown",
   "id": "38dbac95-f359-4be8-81e1-b0d92ce714d0",
   "metadata": {},
   "source": [
    "2.There are many types of probability distributions, broadly categorized into discrete and continuous distributions:\n",
    "\n",
    "Discrete Probability Distributions:\n",
    "\n",
    "Binomial Distribution\n",
    "Poisson Distribution\n",
    "Geometric Distribution\n",
    "Negative Binomial Distribution\n",
    "Continuous Probability Distributions:\n",
    "\n",
    "Normal (Gaussian) Distribution\n",
    "Exponential Distribution\n",
    "Uniform Distribution\n",
    "Beta Distribution\n",
    "Gamma Distribution"
   ]
  },
  {
   "cell_type": "markdown",
   "id": "973bbe04-21ad-44a4-8861-238a352b3b64",
   "metadata": {
    "tags": []
   },
   "source": [
    "import math\n",
    "\n",
    "def normal_pdf(x, mean, std_dev):\n",
    "    exponent = math.exp(-((x - mean) ** 2) / (2 * std_dev ** 2))\n",
    "    return (1 / (std_dev * math.sqrt(2 * math.pi))) * exponent\n",
    "\n",
    "# Example usage:\n",
    "mean = 0\n",
    "std_dev = 1\n",
    "x = 1\n",
    "pdf_value = normal_pdf(x, mean, std_dev)\n",
    "print(f\"PDF value at x = {x} for mean = {mean} and std_dev = {std_dev}: {pdf_value}\")\n"
   ]
  },
  {
   "cell_type": "code",
   "execution_count": null,
   "id": "69366e96-f7b9-4c0f-b199-edba749fee18",
   "metadata": {},
   "outputs": [],
   "source": []
  }
 ],
 "metadata": {
  "kernelspec": {
   "display_name": "Python 3 (ipykernel)",
   "language": "python",
   "name": "python3"
  },
  "language_info": {
   "codemirror_mode": {
    "name": "ipython",
    "version": 3
   },
   "file_extension": ".py",
   "mimetype": "text/x-python",
   "name": "python",
   "nbconvert_exporter": "python",
   "pygments_lexer": "ipython3",
   "version": "3.10.8"
  }
 },
 "nbformat": 4,
 "nbformat_minor": 5
}
